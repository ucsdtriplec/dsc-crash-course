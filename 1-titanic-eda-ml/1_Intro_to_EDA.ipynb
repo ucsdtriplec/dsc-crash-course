{
 "cells": [
  {
   "cell_type": "markdown",
   "metadata": {
    "colab_type": "text",
    "id": "q4sk8FtwjV_Y"
   },
   "source": [
    "# 0. Overview\n",
    "- This is a introductory project for Triple C data scientist, focusing on the area of EDA and Machine Learning. In order to complete this project, you have to save this notebook to your own google colab account and work on it there. \n",
    "- ** DO NOT MODIFY THIS NOTEBOOK**\n",
    "\n",
    "- Dataset: https://www.kaggle.com/c/titanic/overview\n",
    "- Reference: https://www.kaggle.com/rbud613/taitanic-eda/comments#846113\n",
    "- Pre-requisite:\n",
    "    - Knowledge of numpy and Python pandas;\n",
    "    - Passion to learn;\n",
    "    - Ready to ask question (to both Google and your Tech Lead).\n",
    "- Objective:\n",
    "    - Understanding the basic procedure of EDA (exploratory data analysis).\n",
    "\n",
    "---------"
   ]
  },
  {
   "cell_type": "markdown",
   "metadata": {
    "colab_type": "text",
    "id": "v2hk1qJaxf1x"
   },
   "source": [
    "# 1. Get Started\n",
    "- **Overview**: In this section, you will load the necessary data for this project and corresponding explanation of it. "
   ]
  },
  {
   "cell_type": "markdown",
   "metadata": {
    "colab_type": "text",
    "id": "zbLk3Lcd_4X_"
   },
   "source": [
    "## 1.1. Check for requirements\n",
    "- Make sure you follow the **README.me** in the upper directory"
   ]
  },
  {
   "cell_type": "markdown",
   "metadata": {
    "colab_type": "text",
    "id": "DzuofEuOysG7"
   },
   "source": [
    "## 1.2. Getting the Data\n",
    "- First, let's take a look at the data we are going to use\n",
    "- There is **1 problem** in this section"
   ]
  },
  {
   "cell_type": "code",
   "execution_count": null,
   "metadata": {
    "colab": {},
    "colab_type": "code",
    "id": "msLtPBQ-jE1_"
   },
   "outputs": [],
   "source": [
    "import pandas as pd"
   ]
  },
  {
   "cell_type": "markdown",
   "metadata": {
    "colab_type": "text",
    "id": "8zeyMIri5jCU"
   },
   "source": [
    "**Problem 1.1:** Use pandas libary to read in the data we need (i.e. train.csv & test.csv, both are in `data` folder)"
   ]
  },
  {
   "cell_type": "code",
   "execution_count": null,
   "metadata": {
    "colab": {},
    "colab_type": "code",
    "id": "oUrtdcN7yj7w"
   },
   "outputs": [],
   "source": [
    "# Your Code Starts Here\n",
    "train = ...\n",
    "test = ..."
   ]
  },
  {
   "cell_type": "code",
   "execution_count": null,
   "metadata": {
    "colab": {},
    "colab_type": "code",
    "id": "VVgiK1mIxP-2"
   },
   "outputs": [],
   "source": [
    "# First few lines of training set (i.e. the data WITH known labels)\n",
    "train.head()"
   ]
  },
  {
   "cell_type": "code",
   "execution_count": null,
   "metadata": {
    "colab": {},
    "colab_type": "code",
    "id": "lRDaBdrExQFG"
   },
   "outputs": [],
   "source": [
    "# First few lines of test set (i.e. the data WITHOUT known labels)\n",
    "test.head()"
   ]
  },
  {
   "cell_type": "markdown",
   "metadata": {
    "colab_type": "text",
    "id": "M2eb7Tbr0LjV"
   },
   "source": [
    "![Data Dictionary](./data/data_dictionary.png)\n",
    "\n",
    "\n",
    "- Variable Notes\n",
    "    - pclass: A proxy for socio-economic status (SES)\n",
    "        - 1st = Upper\n",
    "        - 2nd = Middle\n",
    "        - 3rd = Lower\n",
    "\n",
    "    - age: Age is fractional if less than 1. If the age is estimated, is it in the form of xx.5\n",
    "\n",
    "    - sibsp: The dataset defines family relations in this way...\n",
    "        - Sibling = brother, sister, stepbrother, stepsister\n",
    "        - Spouse = husband, wife (mistresses and fiancés were ignored)\n",
    "\n",
    "    - parch: The dataset defines family relations in this way...\n",
    "        - Parent = mother, father\n",
    "        - Child = daughter, son, stepdaughter, stepson\n",
    "        - Some children travelled only with a nanny, therefore parch=0 for them.\n",
    "\n",
    "- **Take a few minutes to look at the dataset and get an idea of it**\n",
    "---------"
   ]
  },
  {
   "cell_type": "markdown",
   "metadata": {
    "colab_type": "text",
    "id": "bLGDsOGVx_un"
   },
   "source": [
    "# 2. EDA\n",
    "- **Overview**: In this section, you will conduct EDA (aka **exploratory data analysis**) for the dataset. As a crutial step of traditional data science project, EDA will give you the idea of your dataset in the following ways:\n",
    "    - 1. Distribution of the data in each field;\n",
    "    - 2. Direction for feature engineering;\n",
    "    - 3. Null values / empty entries of the dataset.\n",
    "\n",
    "It's always a good practice to do EDA before any modeling/prediction. As the EDA often give you better understanding of the dataset which should give you some hint about which model would fit this job. \n",
    "\n",
    "There are lots of ways to conduct EDA. In this section we will look at some of the most popular ones used in Triple C data science team.\n",
    "\n",
    "Usually, the first step of EDA is **values check** and **data visualizations** which should ususally give you some hints about whether there's some NaN/Null values and whether outliers exist inside the dataset."
   ]
  },
  {
   "cell_type": "markdown",
   "metadata": {
    "colab_type": "text",
    "id": "rSTaU2IaFjTq"
   },
   "source": [
    "## 2.1. Values check\n",
    "- Before we analyze our dataset, we had batter make sure most of the entries are \"filled\" instead of empty. In pandas, empty entries are represented as \"nan\" (*Not A Number*). \n",
    "- In this section, we want to use several pandas function to get an idea of what values does our dataset contains: **any null values? how many unique values?** etc.\n",
    "- There are **3 problems** in this section"
   ]
  },
  {
   "cell_type": "markdown",
   "metadata": {
    "colab_type": "text",
    "id": "biu4gtemHgRR"
   },
   "source": [
    "### 2.1.1 Nan values\n",
    "- nan, i.e. null values, in the dataset is a problem for us. In this section, we will look at ways to **find out their distribution** and the ways to **handle them**."
   ]
  },
  {
   "cell_type": "markdown",
   "metadata": {
    "colab_type": "text",
    "id": "XqjqQ2eDGY8v"
   },
   "source": [
    "**Problem 2.1:** Check how many **nan values** are there in each column.\n",
    "- Hint: make use of `isna()` and `sum()` function from pandas."
   ]
  },
  {
   "cell_type": "code",
   "execution_count": null,
   "metadata": {
    "colab": {},
    "colab_type": "code",
    "id": "63Hj0Q0TFalb"
   },
   "outputs": [],
   "source": [
    "# Your Code Starts Here - Check for nan counts\n"
   ]
  },
  {
   "cell_type": "markdown",
   "metadata": {
    "colab_type": "text",
    "id": "ACHM-_ECICmg"
   },
   "source": [
    "- As we can see from the results above, there are multiple columns comes with nan values. In order to facilitate our later process, we will need to choose from the following:\n",
    "    - A. Drop them; \n",
    "    - B. Fill them with something that makes senses.\n",
    "- *We will do this in later process, before training, since we will first do the data visualization and we don't want to mislead that process with those manually-filled data.*\n",
    "- *Theoretically, the data missingnes could categorized into 3 types: MAR, MCAR, MNAR. It's always good to decide your inputation method by the missing type. Some introduction could be found here: https://en.wikipedia.org/wiki/Missing_data.*\n",
    "- *In reality, always check with your manager, or the data provider, to find out the optimal way to dealing with NaN values.*\n"
   ]
  },
  {
   "cell_type": "markdown",
   "metadata": {
    "colab_type": "text",
    "id": "ahVALMnJI05i"
   },
   "source": [
    "### 2.1.2. Values info"
   ]
  },
  {
   "cell_type": "markdown",
   "metadata": {
    "colab_type": "text",
    "id": "OrgZSG85G-2I"
   },
   "source": [
    "**Problem 2.2:** Check how many **unique values** are there in each column.\n",
    "- Hint: make use of `nunique()` and `unique()` function from pandas."
   ]
  },
  {
   "cell_type": "code",
   "execution_count": null,
   "metadata": {
    "colab": {},
    "colab_type": "code",
    "id": "rlxH8u1ZG9xp"
   },
   "outputs": [],
   "source": [
    "# Your Code Starts Here - Check for unique value counts\n"
   ]
  },
  {
   "cell_type": "markdown",
   "metadata": {
    "colab_type": "text",
    "id": "g6RBz673I7Wi"
   },
   "source": [
    "**Problem 2.3:** Use the function `pd.describe()` to get some basic info of the train & test dataset\n",
    "- [link to doc](https://pandas.pydata.org/pandas-docs/stable/reference/api/pandas.DataFrame.describe.html)"
   ]
  },
  {
   "cell_type": "code",
   "execution_count": null,
   "metadata": {
    "colab": {},
    "colab_type": "code",
    "id": "WEVEGXsvG921"
   },
   "outputs": [],
   "source": [
    "# Your Code Starts Here - Describe training set\n"
   ]
  },
  {
   "cell_type": "code",
   "execution_count": null,
   "metadata": {
    "colab": {},
    "colab_type": "code",
    "id": "bVc__tOdG9rN"
   },
   "outputs": [],
   "source": [
    "# Your Code Starts Here - Describe test set\n"
   ]
  },
  {
   "cell_type": "markdown",
   "metadata": {
    "colab_type": "text",
    "id": "2-L6bkpWJaS7"
   },
   "source": [
    "**Section Summary:**\n",
    "- Note that, for the functions mentioned in this section (`pd.describe()`, `pd.unique()`, `pd.nunique()`, `pd.isna()`), if the dataframe is really big, the running time will be very long. So use them with ease."
   ]
  },
  {
   "cell_type": "markdown",
   "metadata": {
    "colab_type": "text",
    "id": "vfC1YrrH3N9I"
   },
   "source": [
    "## 2.2. Data Visualization\n",
    "- The fist technique we are looking at is data visualization. Through visualized graphs, we will be able to understand the data from a bird-eye view.\n",
    "- `Reference:` https://www.kaggle.com/amritvirsinghx/eda-basics-interpreting-plots\n",
    "- There are **4 problems** in this section"
   ]
  },
  {
   "cell_type": "code",
   "execution_count": null,
   "metadata": {
    "colab": {
     "base_uri": "https://localhost:8080/",
     "height": 71
    },
    "colab_type": "code",
    "id": "n0myaU07xQOn",
    "outputId": "4e42385e-8144-4d3d-bbf0-ae8948b41063"
   },
   "outputs": [
    {
     "name": "stderr",
     "output_type": "stream",
     "text": [
      "/usr/local/lib/python3.6/dist-packages/statsmodels/tools/_testing.py:19: FutureWarning: pandas.util.testing is deprecated. Use the functions in the public API at pandas.testing instead.\n",
      "  import pandas.util.testing as tm\n"
     ]
    }
   ],
   "source": [
    "import seaborn as sns"
   ]
  },
  {
   "cell_type": "code",
   "execution_count": null,
   "metadata": {
    "colab": {
     "base_uri": "https://localhost:8080/",
     "height": 204
    },
    "colab_type": "code",
    "id": "Mhy1Pg_g1vuG",
    "outputId": "5202c065-f82e-477a-94ec-9bb133d729b2"
   },
   "outputs": [
    {
     "data": {
      "text/html": [
       "<div>\n",
       "<style scoped>\n",
       "    .dataframe tbody tr th:only-of-type {\n",
       "        vertical-align: middle;\n",
       "    }\n",
       "\n",
       "    .dataframe tbody tr th {\n",
       "        vertical-align: top;\n",
       "    }\n",
       "\n",
       "    .dataframe thead th {\n",
       "        text-align: right;\n",
       "    }\n",
       "</style>\n",
       "<table border=\"1\" class=\"dataframe\">\n",
       "  <thead>\n",
       "    <tr style=\"text-align: right;\">\n",
       "      <th></th>\n",
       "      <th>PassengerId</th>\n",
       "      <th>Survived</th>\n",
       "      <th>Pclass</th>\n",
       "      <th>Name</th>\n",
       "      <th>Sex</th>\n",
       "      <th>Age</th>\n",
       "      <th>SibSp</th>\n",
       "      <th>Parch</th>\n",
       "      <th>Ticket</th>\n",
       "      <th>Fare</th>\n",
       "      <th>Cabin</th>\n",
       "      <th>Embarked</th>\n",
       "    </tr>\n",
       "  </thead>\n",
       "  <tbody>\n",
       "    <tr>\n",
       "      <th>0</th>\n",
       "      <td>1</td>\n",
       "      <td>0</td>\n",
       "      <td>3</td>\n",
       "      <td>Braund, Mr. Owen Harris</td>\n",
       "      <td>male</td>\n",
       "      <td>22.0</td>\n",
       "      <td>1</td>\n",
       "      <td>0</td>\n",
       "      <td>A/5 21171</td>\n",
       "      <td>7.2500</td>\n",
       "      <td>NaN</td>\n",
       "      <td>S</td>\n",
       "    </tr>\n",
       "    <tr>\n",
       "      <th>1</th>\n",
       "      <td>2</td>\n",
       "      <td>1</td>\n",
       "      <td>1</td>\n",
       "      <td>Cumings, Mrs. John Bradley (Florence Briggs Th...</td>\n",
       "      <td>female</td>\n",
       "      <td>38.0</td>\n",
       "      <td>1</td>\n",
       "      <td>0</td>\n",
       "      <td>PC 17599</td>\n",
       "      <td>71.2833</td>\n",
       "      <td>C85</td>\n",
       "      <td>C</td>\n",
       "    </tr>\n",
       "    <tr>\n",
       "      <th>2</th>\n",
       "      <td>3</td>\n",
       "      <td>1</td>\n",
       "      <td>3</td>\n",
       "      <td>Heikkinen, Miss. Laina</td>\n",
       "      <td>female</td>\n",
       "      <td>26.0</td>\n",
       "      <td>0</td>\n",
       "      <td>0</td>\n",
       "      <td>STON/O2. 3101282</td>\n",
       "      <td>7.9250</td>\n",
       "      <td>NaN</td>\n",
       "      <td>S</td>\n",
       "    </tr>\n",
       "    <tr>\n",
       "      <th>3</th>\n",
       "      <td>4</td>\n",
       "      <td>1</td>\n",
       "      <td>1</td>\n",
       "      <td>Futrelle, Mrs. Jacques Heath (Lily May Peel)</td>\n",
       "      <td>female</td>\n",
       "      <td>35.0</td>\n",
       "      <td>1</td>\n",
       "      <td>0</td>\n",
       "      <td>113803</td>\n",
       "      <td>53.1000</td>\n",
       "      <td>C123</td>\n",
       "      <td>S</td>\n",
       "    </tr>\n",
       "    <tr>\n",
       "      <th>4</th>\n",
       "      <td>5</td>\n",
       "      <td>0</td>\n",
       "      <td>3</td>\n",
       "      <td>Allen, Mr. William Henry</td>\n",
       "      <td>male</td>\n",
       "      <td>35.0</td>\n",
       "      <td>0</td>\n",
       "      <td>0</td>\n",
       "      <td>373450</td>\n",
       "      <td>8.0500</td>\n",
       "      <td>NaN</td>\n",
       "      <td>S</td>\n",
       "    </tr>\n",
       "  </tbody>\n",
       "</table>\n",
       "</div>"
      ],
      "text/plain": [
       "   PassengerId  Survived  Pclass  ...     Fare Cabin  Embarked\n",
       "0            1         0       3  ...   7.2500   NaN         S\n",
       "1            2         1       1  ...  71.2833   C85         C\n",
       "2            3         1       3  ...   7.9250   NaN         S\n",
       "3            4         1       1  ...  53.1000  C123         S\n",
       "4            5         0       3  ...   8.0500   NaN         S\n",
       "\n",
       "[5 rows x 12 columns]"
      ]
     },
     "execution_count": 11,
     "metadata": {
      "tags": []
     },
     "output_type": "execute_result"
    }
   ],
   "source": [
    "train.head()"
   ]
  },
  {
   "cell_type": "markdown",
   "metadata": {
    "colab_type": "text",
    "id": "pnhMUMxd6Sau"
   },
   "source": [
    "### 2.2.1. Bar plot"
   ]
  },
  {
   "cell_type": "markdown",
   "metadata": {
    "colab_type": "text",
    "id": "F_-dp6UQ49rv"
   },
   "source": [
    "- The following cell shows an example of *bar plot* using seaborn library to illustrite the relationship between passenger fare (`Fare`) and survival info (`Survived`).\n",
    "- You can plot it with `sns.barplot()` or with `sns.catplot()`, here we use `sns.catplot()`\n"
   ]
  },
  {
   "cell_type": "code",
   "execution_count": null,
   "metadata": {
    "colab": {
     "base_uri": "https://localhost:8080/",
     "height": 242
    },
    "colab_type": "code",
    "id": "5bMb61tL7ail",
    "outputId": "27a2ed1e-7fdf-4f7b-9c14-73b7dd02468f"
   },
   "outputs": [
    {
     "data": {
      "text/plain": [
       "<seaborn.axisgrid.FacetGrid at 0x7f78426feac8>"
      ]
     },
     "execution_count": 14,
     "metadata": {
      "tags": []
     },
     "output_type": "execute_result"
    },
    {
     "data": {
      "image/png": "[encoded data removed]",
      "text/plain": [
       "<Figure size 216x216 with 1 Axes>"
      ]
     },
     "metadata": {
      "needs_background": "light",
      "tags": []
     },
     "output_type": "display_data"
    }
   ],
   "source": [
    "# Example\n",
    "sns.catplot(x=\"Survived\", y=\"Fare\", data=train,kind=\"bar\",height=3)"
   ]
  },
  {
   "cell_type": "markdown",
   "metadata": {
    "colab_type": "text",
    "id": "jt1B5XIo7ZRy"
   },
   "source": [
    "\n",
    "**Problem 2.4:**\n",
    "Plot **two other bar plot** using seaborn library to illustrite the relationship between other features and the survival info (`Survived`).\n",
    "- Try using `sns.catplot()` function;\n",
    "- Hint: **Look at the example above, what should each argument of the function sns.catplot() be?**\n",
    "-  [link to doc](https://seaborn.pydata.org/generated/seaborn.catplot.html)"
   ]
  },
  {
   "cell_type": "code",
   "execution_count": null,
   "metadata": {
    "colab": {},
    "colab_type": "code",
    "id": "3d4VWEPg1vRi"
   },
   "outputs": [],
   "source": [
    "# Your Code Starts Here - feature 1\n",
    "sns.catplot()"
   ]
  },
  {
   "cell_type": "code",
   "execution_count": null,
   "metadata": {
    "colab": {},
    "colab_type": "code",
    "id": "DN52-_Zy7l5H"
   },
   "outputs": [],
   "source": [
    "# Your Code Starts Here - feature 2\n",
    "sns.catplot()"
   ]
  },
  {
   "cell_type": "markdown",
   "metadata": {
    "colab_type": "text",
    "id": "lD5hmQuR7YpD"
   },
   "source": [
    "**Note: Some basic things to keep in mind while interpretting bar graphs are:**\n",
    "- Check for the difference in height\n",
    "- Compare groups within groups (when you use divide one bar into subcategories\n",
    "- Sometimes Y-axis will indicate actual count (sns.countplot()) and while other times the categorical variable can be mapped as a probability\n",
    "- In histograms (similar to bar graphs) Y-axis is fixed as the frequency of occurance.\n",
    "- The small vertical lines on each bar are **error bars**. Error bars are graphical representations of the variability of data and used on graphs to indicate the error or uncertainty in a reported measurement. They give a general idea of how precise a measurement is, or conversely, how far from the reported value the true (error free) value might be."
   ]
  },
  {
   "cell_type": "markdown",
   "metadata": {
    "colab_type": "text",
    "id": "NMfvMMSi8BGW"
   },
   "source": [
    "### 2.2.2 Scatter Plots\n",
    "- Scatterplots are useful for interpreting trends in statistical data.\n",
    "- The following cell shows an example of scatter plot using seaborn library to illustrite the relationship between passenger fare (Fare) and age (Age)."
   ]
  },
  {
   "cell_type": "code",
   "execution_count": null,
   "metadata": {
    "colab": {
     "base_uri": "https://localhost:8080/",
     "height": 296
    },
    "colab_type": "code",
    "id": "NA8hk5yD1vaR",
    "outputId": "aed81de0-a67a-40b1-ca31-629dcb043669"
   },
   "outputs": [
    {
     "data": {
      "text/plain": [
       "<matplotlib.axes._subplots.AxesSubplot at 0x7f783f47fc18>"
      ]
     },
     "execution_count": 22,
     "metadata": {
      "tags": []
     },
     "output_type": "execute_result"
    },
    {
     "data": {
      "image/png": "[encoded data removed]",
      "text/plain": [
       "<Figure size 432x288 with 1 Axes>"
      ]
     },
     "metadata": {
      "needs_background": "light",
      "tags": []
     },
     "output_type": "display_data"
    }
   ],
   "source": [
    "# Example\n",
    "sns.scatterplot(x=\"Age\", y=\"Fare\", data=train)"
   ]
  },
  {
   "cell_type": "markdown",
   "metadata": {
    "colab_type": "text",
    "id": "ylaDL28R8trV"
   },
   "source": [
    "**Problem 2.5:** Plot **two other scatter plots** using seaborn library to illustrite the relationship between any two other features. \n",
    "- Try using `sns.scatterplot()` function; [link to doc](https://seaborn.pydata.org/generated/seaborn.scatterplot.html)\n",
    "- Hint: **Look at the example above, what should each argument of the function sns.scatterplot() be?**"
   ]
  },
  {
   "cell_type": "code",
   "execution_count": null,
   "metadata": {
    "colab": {},
    "colab_type": "code",
    "id": "cjMSt9251vXF"
   },
   "outputs": [],
   "source": [
    "# Your Code Starts Here - scatter plot 1\n",
    "sns.scatterplot()"
   ]
  },
  {
   "cell_type": "code",
   "execution_count": null,
   "metadata": {
    "colab": {},
    "colab_type": "code",
    "id": "o9Rab_BL9t0k"
   },
   "outputs": [],
   "source": [
    "# Your Code Starts Here - scatter plot 2\n",
    "sns.scatterplot()"
   ]
  },
  {
   "cell_type": "markdown",
   "metadata": {
    "colab_type": "text",
    "id": "5T2El56b9zgU"
   },
   "source": [
    "### 2.2.3 Dist Plots (i.e. histogram)\n",
    "- Histogram is another way, or the most straightforward way, to show the distribution of a population.\n",
    "- The following cell shows an example of histogram using seaborn library to illustrite the distribution of passenger fare (Fare)."
   ]
  },
  {
   "cell_type": "code",
   "execution_count": null,
   "metadata": {
    "colab": {
     "base_uri": "https://localhost:8080/",
     "height": 297
    },
    "colab_type": "code",
    "id": "MIyzrzM79uTI",
    "outputId": "ba0be90f-15b4-4af7-99a6-01c94ad8e47b"
   },
   "outputs": [
    {
     "data": {
      "text/plain": [
       "<matplotlib.axes._subplots.AxesSubplot at 0x7f783f3ef470>"
      ]
     },
     "execution_count": 23,
     "metadata": {
      "tags": []
     },
     "output_type": "execute_result"
    },
    {
     "data": {
      "image/png": "[encoded data removed]",
      "text/plain": [
       "<Figure size 432x288 with 1 Axes>"
      ]
     },
     "metadata": {
      "needs_background": "light",
      "tags": []
     },
     "output_type": "display_data"
    }
   ],
   "source": [
    "# Example\n",
    "sns.distplot(train.Fare)"
   ]
  },
  {
   "cell_type": "markdown",
   "metadata": {
    "colab_type": "text",
    "id": "X2HNy0Yn-zDx"
   },
   "source": [
    "- However, as we can see from the plot above, the plot is kind of un-readable because it has a long \"tail\" to the right."
   ]
  },
  {
   "cell_type": "markdown",
   "metadata": {
    "colab_type": "text",
    "id": "2iqnEv38_FSd"
   },
   "source": [
    "**Problem 2.6:** Plot **two other histograms** using seaborn library to illustrite the distributions of two other **Numerical** features. \n",
    "- Try using `sns.distplot()` function; [link to doc](https://seaborn.pydata.org/generated/seaborn.distplot.html)"
   ]
  },
  {
   "cell_type": "code",
   "execution_count": null,
   "metadata": {
    "colab": {},
    "colab_type": "code",
    "id": "yeqzVf5X9uhE"
   },
   "outputs": [],
   "source": [
    "# Your Code Starts Here - dist plot 1\n",
    "sns.distplot()"
   ]
  },
  {
   "cell_type": "code",
   "execution_count": null,
   "metadata": {
    "colab": {},
    "colab_type": "code",
    "id": "8JTDPyMP9uX7"
   },
   "outputs": [],
   "source": [
    "# Your Code Starts Here - dist plot 2\n",
    "sns.distplot()"
   ]
  },
  {
   "cell_type": "markdown",
   "metadata": {
    "colab_type": "text",
    "id": "9jaCnNE49vMB"
   },
   "source": [
    "### 2.2.4 Box Plots\n",
    "- A boxplot is a standardized way of displaying the distribution of data based on a five number summary (“minimum”, first quartile (Q1), median, third quartile (Q3), and “maximum”).\n",
    "\n",
    "- It can tell you about:\n",
    "    - Outliers in the data and what their values are.\n",
    "    - If your data is symmetrical,\n",
    "    - How tightly your data is grouped, and if and how your data is skewed.\n",
    "- You can plot it with `sns.boxplot()` or with `sns.catplot()`, here we use both"
   ]
  },
  {
   "cell_type": "code",
   "execution_count": null,
   "metadata": {
    "colab": {
     "base_uri": "https://localhost:8080/",
     "height": 314
    },
    "colab_type": "code",
    "id": "XYKnGJd69t6s",
    "outputId": "d73fabf0-3129-4632-d9f5-95e8d416cce1"
   },
   "outputs": [
    {
     "data": {
      "text/plain": [
       "<seaborn.axisgrid.FacetGrid at 0x7f783f2ae358>"
      ]
     },
     "execution_count": 25,
     "metadata": {
      "tags": []
     },
     "output_type": "execute_result"
    },
    {
     "data": {
      "image/png": "[encoded data removed]",
      "text/plain": [
       "<Figure size 288x288 with 1 Axes>"
      ]
     },
     "metadata": {
      "needs_background": "light",
      "tags": []
     },
     "output_type": "display_data"
    }
   ],
   "source": [
    "# Example of catplot, with kind = \"box\"\n",
    "sns.catplot(x=\"Sex\", y=\"Age\", data=train, kind=\"box\", height=4)"
   ]
  },
  {
   "cell_type": "code",
   "execution_count": null,
   "metadata": {
    "colab": {
     "base_uri": "https://localhost:8080/",
     "height": 296
    },
    "colab_type": "code",
    "id": "Q-l-D6X8ByvR",
    "outputId": "559118c3-6ff1-4e30-c841-a3ff536d9535"
   },
   "outputs": [
    {
     "data": {
      "text/plain": [
       "<matplotlib.axes._subplots.AxesSubplot at 0x7f783f483518>"
      ]
     },
     "execution_count": 33,
     "metadata": {
      "tags": []
     },
     "output_type": "execute_result"
    },
    {
     "data": {
      "image/png": "[encoded data removed]",
      "text/plain": [
       "<Figure size 432x288 with 1 Axes>"
      ]
     },
     "metadata": {
      "needs_background": "light",
      "tags": []
     },
     "output_type": "display_data"
    }
   ],
   "source": [
    "# Example of box plot, \"hue\" here means the way we divide the two groups\n",
    "sns.boxplot(x = \"Sex\", y = 'Age', data = train, hue = 'Sex')"
   ]
  },
  {
   "cell_type": "markdown",
   "metadata": {
    "colab_type": "text",
    "id": "9t0k-uoMCoqQ"
   },
   "source": [
    "**Problem 2.7:** Plot **two other box plots** using seaborn library to illustrite the distribution of any other features. \n",
    "- You can use either `sns.boxplot()` and `sns.catplot()`;\n",
    "- You don't have to use two features (i.e. you can just plot the distribution of one feature instead of using two featres as we did in the examples above.)"
   ]
  },
  {
   "cell_type": "code",
   "execution_count": null,
   "metadata": {
    "colab": {},
    "colab_type": "code",
    "id": "LVIf6k7BCoKP"
   },
   "outputs": [],
   "source": [
    "# Your Code Starts Here - box plot 1\n"
   ]
  },
  {
   "cell_type": "code",
   "execution_count": null,
   "metadata": {
    "colab": {},
    "colab_type": "code",
    "id": "IAcOsjipCoCV"
   },
   "outputs": [],
   "source": [
    "# Your Code Starts Here - box plot 2\n"
   ]
  },
  {
   "cell_type": "code",
   "execution_count": null,
   "metadata": {},
   "outputs": [],
   "source": []
  },
  {
   "cell_type": "markdown",
   "metadata": {
    "colab_type": "text",
    "id": "bJhELOZBMQwz"
   },
   "source": [
    "# The End."
   ]
  }
 ],
 "metadata": {
  "colab": {
   "collapsed_sections": [],
   "name": "1. Intro-to-EDA-ML.ipynb",
   "provenance": [],
   "toc_visible": true
  },
  "kernelspec": {
   "display_name": "Python 3",
   "language": "python",
   "name": "python3"
  },
  "language_info": {
   "codemirror_mode": {
    "name": "ipython",
    "version": 3
   },
   "file_extension": ".py",
   "mimetype": "text/x-python",
   "name": "python",
   "nbconvert_exporter": "python",
   "pygments_lexer": "ipython3",
   "version": "3.8.3"
  },
  "toc": {
   "base_numbering": 1,
   "nav_menu": {},
   "number_sections": true,
   "sideBar": true,
   "skip_h1_title": false,
   "title_cell": "Table of Contents",
   "title_sidebar": "Contents",
   "toc_cell": false,
   "toc_position": {},
   "toc_section_display": true,
   "toc_window_display": false
  }
 },
 "nbformat": 4,
 "nbformat_minor": 1
}
